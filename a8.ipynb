{
  "nbformat": 4,
  "nbformat_minor": 0,
  "metadata": {
    "colab": {
      "name": "a8.ipynb",
      "provenance": [],
      "authorship_tag": "ABX9TyMHSebg29UYPn9JFCaleg9f",
      "include_colab_link": true
    },
    "kernelspec": {
      "name": "python3",
      "display_name": "Python 3"
    },
    "language_info": {
      "name": "python"
    }
  },
  "cells": [
    {
      "cell_type": "markdown",
      "metadata": {
        "id": "view-in-github",
        "colab_type": "text"
      },
      "source": [
        "<a href=\"https://colab.research.google.com/github/leeseungi/Python_report/blob/main/a8.ipynb\" target=\"_parent\"><img src=\"https://colab.research.google.com/assets/colab-badge.svg\" alt=\"Open In Colab\"/></a>"
      ]
    },
    {
      "cell_type": "code",
      "execution_count": 2,
      "metadata": {
        "colab": {
          "base_uri": "https://localhost:8080/"
        },
        "id": "wSWzBjiHXeHO",
        "outputId": "a4be94ba-8e6b-4230-f7a5-78abbf2260d0"
      },
      "outputs": [
        {
          "output_type": "stream",
          "name": "stdout",
          "text": [
            "113000000\n"
          ]
        }
      ],
      "source": [
        "won = 100000\n",
        "usd = won * 1130\n",
        "print(usd)\n"
      ]
    }
  ]
}