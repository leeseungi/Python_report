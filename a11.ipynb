{
  "nbformat": 4,
  "nbformat_minor": 0,
  "metadata": {
    "colab": {
      "name": "a11.ipynb",
      "provenance": [],
      "authorship_tag": "ABX9TyPKpzMjdbfCTM5Bp4O9pcJr",
      "include_colab_link": true
    },
    "kernelspec": {
      "name": "python3",
      "display_name": "Python 3"
    },
    "language_info": {
      "name": "python"
    }
  },
  "cells": [
    {
      "cell_type": "markdown",
      "metadata": {
        "id": "view-in-github",
        "colab_type": "text"
      },
      "source": [
        "<a href=\"https://colab.research.google.com/github/leeseungi/Python_report/blob/main/a11.ipynb\" target=\"_parent\"><img src=\"https://colab.research.google.com/assets/colab-badge.svg\" alt=\"Open In Colab\"/></a>"
      ]
    },
    {
      "cell_type": "code",
      "execution_count": 1,
      "metadata": {
        "colab": {
          "base_uri": "https://localhost:8080/"
        },
        "id": "X2-F5QRKZuqY",
        "outputId": "6ffef484-40ff-4837-e15f-ebf2b98f588c"
      },
      "outputs": [
        {
          "output_type": "stream",
          "name": "stdout",
          "text": [
            "정수 x를 입력하시오: 1\n",
            "정수 y를 입력하시오: 2\n",
            "3\n"
          ]
        }
      ],
      "source": [
        "x = 0\n",
        "y = 0\n",
        "x = int(input(\"정수 x를 입력하시오: \"))\n",
        "y = int(input(\"정수 y를 입력하시오: \"))\n",
        "sum = x + y\n",
        "print(sum)\n"
      ]
    }
  ]
}