{
  "nbformat": 4,
  "nbformat_minor": 0,
  "metadata": {
    "colab": {
      "name": "a17.ipynb",
      "provenance": [],
      "authorship_tag": "ABX9TyMIrPSDUBIOcvN72IGReBx6",
      "include_colab_link": true
    },
    "kernelspec": {
      "name": "python3",
      "display_name": "Python 3"
    },
    "language_info": {
      "name": "python"
    }
  },
  "cells": [
    {
      "cell_type": "markdown",
      "metadata": {
        "id": "view-in-github",
        "colab_type": "text"
      },
      "source": [
        "<a href=\"https://colab.research.google.com/github/leeseungi/Python_report/blob/main/a17.ipynb\" target=\"_parent\"><img src=\"https://colab.research.google.com/assets/colab-badge.svg\" alt=\"Open In Colab\"/></a>"
      ]
    },
    {
      "cell_type": "code",
      "execution_count": 1,
      "metadata": {
        "id": "fdhwnrcZbsuw",
        "outputId": "2d224dc2-5b85-43f1-876f-5dbc6709d601",
        "colab": {
          "base_uri": "https://localhost:8080/"
        }
      },
      "outputs": [
        {
          "output_type": "stream",
          "name": "stdout",
          "text": [
            "########################\n",
            "# 짝수와 홀수 판별 앱 #\n",
            "########################\n",
            "x값 정수를 입력하시오: 20\n",
            "짝수입니다.\n"
          ]
        }
      ],
      "source": [
        "print(\"########################\")\n",
        "print(\"# 짝수와 홀수 판별 앱 #\")\n",
        "print(\"########################\")\n",
        "x = int(input(\"x값 정수를 입력하시오: \"))\n",
        "if (x % 2) != 0 :\n",
        " print(\"홀수입니다.\")\n",
        "else:\n",
        " print(\"짝수입니다.\")"
      ]
    }
  ]
}