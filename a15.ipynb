{
  "nbformat": 4,
  "nbformat_minor": 0,
  "metadata": {
    "colab": {
      "name": "a15.ipynb",
      "provenance": [],
      "authorship_tag": "ABX9TyOAMRxCOS5whAMfQgit4rpH",
      "include_colab_link": true
    },
    "kernelspec": {
      "name": "python3",
      "display_name": "Python 3"
    },
    "language_info": {
      "name": "python"
    }
  },
  "cells": [
    {
      "cell_type": "markdown",
      "metadata": {
        "id": "view-in-github",
        "colab_type": "text"
      },
      "source": [
        "<a href=\"https://colab.research.google.com/github/leeseungi/Python_report/blob/main/a15.ipynb\" target=\"_parent\"><img src=\"https://colab.research.google.com/assets/colab-badge.svg\" alt=\"Open In Colab\"/></a>"
      ]
    },
    {
      "cell_type": "code",
      "execution_count": 5,
      "metadata": {
        "colab": {
          "base_uri": "https://localhost:8080/"
        },
        "id": "H2wS2dACafTW",
        "outputId": "508009d0-3482-480f-b58b-df56eda664c5"
      },
      "outputs": [
        {
          "output_type": "stream",
          "name": "stdout",
          "text": [
            "########################\n",
            "# 합격 불합격 프로그램 #\n",
            "########################\n",
            "성적을 입력하시오.: 61\n",
            "합격\n"
          ]
        }
      ],
      "source": [
        "print(\"########################\")\n",
        "print(\"# 합격 불합격 프로그램 #\")\n",
        "print(\"########################\")\n",
        "grade = int(input(\"성적을 입력하시오.: \"))\n",
        "if grade >= 60 :\n",
        " print(\"합격\")\n",
        "else :\n",
        " print(\"불합격\")\n",
        "\n"
      ]
    }
  ]
}