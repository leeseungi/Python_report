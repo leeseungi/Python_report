{
  "nbformat": 4,
  "nbformat_minor": 0,
  "metadata": {
    "colab": {
      "name": "a9.ipynb",
      "provenance": [],
      "authorship_tag": "ABX9TyMRk8odLfW+1tyzs+oxpqe0",
      "include_colab_link": true
    },
    "kernelspec": {
      "name": "python3",
      "display_name": "Python 3"
    },
    "language_info": {
      "name": "python"
    }
  },
  "cells": [
    {
      "cell_type": "markdown",
      "metadata": {
        "id": "view-in-github",
        "colab_type": "text"
      },
      "source": [
        "<a href=\"https://colab.research.google.com/github/leeseungi/Python_report/blob/main/a9.ipynb\" target=\"_parent\"><img src=\"https://colab.research.google.com/assets/colab-badge.svg\" alt=\"Open In Colab\"/></a>"
      ]
    },
    {
      "cell_type": "code",
      "execution_count": 1,
      "metadata": {
        "colab": {
          "base_uri": "https://localhost:8080/"
        },
        "id": "7FTM3fXYb3Pb",
        "outputId": "30fa53ed-d234-45d5-cf2a-9dbe9d165930"
      },
      "outputs": [
        {
          "output_type": "stream",
          "name": "stdout",
          "text": [
            "현재 환율입력: 1263\n",
            "126300000\n"
          ]
        }
      ],
      "source": [
        "exchange_rate = int(input(\"현재 환율입력: \"))\n",
        "won = 100000\n",
        "usd = won * exchange_rate\n",
        "print(usd)\n"
      ]
    }
  ]
}