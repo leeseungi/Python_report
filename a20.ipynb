{
  "nbformat": 4,
  "nbformat_minor": 0,
  "metadata": {
    "colab": {
      "name": "a20.ipynb",
      "provenance": [],
      "authorship_tag": "ABX9TyOspat1HUjC1pWLtI6dB+Zu",
      "include_colab_link": true
    },
    "kernelspec": {
      "name": "python3",
      "display_name": "Python 3"
    },
    "language_info": {
      "name": "python"
    }
  },
  "cells": [
    {
      "cell_type": "markdown",
      "metadata": {
        "id": "view-in-github",
        "colab_type": "text"
      },
      "source": [
        "<a href=\"https://colab.research.google.com/github/leeseungi/Python_report/blob/main/a20.ipynb\" target=\"_parent\"><img src=\"https://colab.research.google.com/assets/colab-badge.svg\" alt=\"Open In Colab\"/></a>"
      ]
    },
    {
      "cell_type": "code",
      "execution_count": 4,
      "metadata": {
        "colab": {
          "base_uri": "https://localhost:8080/"
        },
        "id": "m_ORT23QqzqS",
        "outputId": "01e465ab-29c3-45aa-ee00-672f9d9ca54a"
      },
      "outputs": [
        {
          "output_type": "stream",
          "name": "stdout",
          "text": [
            "상품의 가격을 입력하세요.: 100001\n",
            "배송료는 0 입니다.\n"
          ]
        }
      ],
      "source": [
        "price = int(input(\"상품의 가격을 입력하세요.: \"))\n",
        "if price > 100000:\n",
        " shipping_cost = 0\n",
        "else:\n",
        " if price > 2000:\n",
        "  shipping_cost = 3000\n",
        " else:\n",
        "  shipping_cost = 5000\n",
        "\n",
        "print(\"배송료는\", shipping_cost, \"입니다.\")"
      ]
    }
  ]
}